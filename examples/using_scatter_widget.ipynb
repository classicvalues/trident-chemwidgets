{
 "cells": [
  {
   "cell_type": "code",
   "execution_count": null,
   "id": "5b7af1e4-7b8e-4f23-8b0d-bc43b13703c3",
   "metadata": {},
   "outputs": [],
   "source": [
    "import trident_chemwidgets as tcw\n",
    "import pandas as pd"
   ]
  },
  {
   "cell_type": "code",
   "execution_count": null,
   "id": "13cbc473-228e-49b6-99af-7d716eedfb65",
   "metadata": {},
   "outputs": [],
   "source": [
    "# First we import our dataset with pandas\n",
    "dataset = pd.read_csv('./zinc_subset.csv')\n",
    "dataset.head()"
   ]
  },
  {
   "cell_type": "code",
   "execution_count": null,
   "id": "6afe53c3-5913-483b-84fd-e906204c6999",
   "metadata": {},
   "outputs": [],
   "source": [
    "# Now we can use the scatter using the mwt as x axis and logp as y\n",
    "scatter = tcw.Scatter(data=dataset, smiles='smiles', x='mwt', y='logp', x_label='Molecular Weight', y_label='logP')\n",
    "scatter"
   ]
  }
 ],
 "metadata": {
  "kernelspec": {
   "display_name": "Python 3 (ipykernel)",
   "language": "python",
   "name": "python3"
  },
  "language_info": {
   "codemirror_mode": {
    "name": "ipython",
    "version": 3
   },
   "file_extension": ".py",
   "mimetype": "text/x-python",
   "name": "python",
   "nbconvert_exporter": "python",
   "pygments_lexer": "ipython3",
   "version": "3.10.2"
  }
 },
 "nbformat": 4,
 "nbformat_minor": 5
}
