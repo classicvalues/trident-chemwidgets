{
 "cells": [
  {
   "cell_type": "code",
   "execution_count": null,
   "id": "329c257f-0c79-418d-b08b-d66c8cb0a548",
   "metadata": {},
   "outputs": [],
   "source": [
    "import trident_chemwidgets as tcw"
   ]
  },
  {
   "cell_type": "code",
   "execution_count": null,
   "id": "b0e8cca6-5035-4948-8d16-aa815b7bc91d",
   "metadata": {},
   "outputs": [],
   "source": [
    "j = tcw.JSME(base_smiles='CC(C)Cc1ccc(cc1)[C@@H](C)C(=O)O')\n",
    "j"
   ]
  },
  {
   "cell_type": "code",
   "execution_count": null,
   "id": "af60622f-61a8-4616-bf95-f7a724d13150",
   "metadata": {},
   "outputs": [],
   "source": [
    "a = j.smiles"
   ]
  },
  {
   "cell_type": "code",
   "execution_count": null,
   "id": "335cd7ef-80d0-4125-98f6-7498450ad9be",
   "metadata": {},
   "outputs": [],
   "source": [
    "a"
   ]
  },
  {
   "cell_type": "code",
   "execution_count": null,
   "id": "16bb3ee8-8f74-4df6-ac7d-7231e391d261",
   "metadata": {},
   "outputs": [],
   "source": [
    "j.smiles"
   ]
  },
  {
   "cell_type": "code",
   "execution_count": null,
   "id": "8de6138d-95a4-4830-bb80-129b40ca30f9",
   "metadata": {},
   "outputs": [],
   "source": [
    "j.base_smiles"
   ]
  },
  {
   "cell_type": "code",
   "execution_count": null,
   "id": "8e974b5b-3c49-4d65-8e7e-51dc7f1dc67c",
   "metadata": {},
   "outputs": [],
   "source": [
    "b = tcw.JSME()\n",
    "b"
   ]
  },
  {
   "cell_type": "code",
   "execution_count": null,
   "id": "b02fd282-03b1-494b-b24f-14004a819f7a",
   "metadata": {},
   "outputs": [],
   "source": []
  }
 ],
 "metadata": {
  "kernelspec": {
   "display_name": "Python 3 (ipykernel)",
   "language": "python",
   "name": "python3"
  },
  "language_info": {
   "codemirror_mode": {
    "name": "ipython",
    "version": 3
   },
   "file_extension": ".py",
   "mimetype": "text/x-python",
   "name": "python",
   "nbconvert_exporter": "python",
   "pygments_lexer": "ipython3",
   "version": "3.10.2"
  }
 },
 "nbformat": 4,
 "nbformat_minor": 5
}
