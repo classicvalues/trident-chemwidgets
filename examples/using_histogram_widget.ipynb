{
 "cells": [
  {
   "cell_type": "markdown",
   "id": "7260ca30-7450-4c41-b7f3-0b20be6b9a8b",
   "metadata": {},
   "source": [
    "For this example we need to install pandas. If you don't have it yet, just execute the cell bellow to install."
   ]
  },
  {
   "cell_type": "code",
   "execution_count": null,
   "id": "b7e3be6a-0e74-4521-8619-b3c4be96c676",
   "metadata": {},
   "outputs": [],
   "source": [
    "!pip install pandas"
   ]
  },
  {
   "cell_type": "markdown",
   "id": "426e1291-d1b9-4b5b-8b83-57b100009b7a",
   "metadata": {},
   "source": [
    "Now we can import the `trident_chemwidgets` and the `pandas` lib to import our csv dataset."
   ]
  },
  {
   "cell_type": "code",
   "execution_count": 1,
   "id": "515686f3-e649-40f5-bc6d-59a022213e73",
   "metadata": {},
   "outputs": [],
   "source": [
    "import trident_chemwidgets as tcw\n",
    "import pandas as pd"
   ]
  },
  {
   "cell_type": "code",
   "execution_count": 2,
   "id": "d6e0b578-778a-4f64-bb0a-49f83ed9ee61",
   "metadata": {},
   "outputs": [
    {
     "data": {
      "text/html": [
       "<div>\n",
       "<style scoped>\n",
       "    .dataframe tbody tr th:only-of-type {\n",
       "        vertical-align: middle;\n",
       "    }\n",
       "\n",
       "    .dataframe tbody tr th {\n",
       "        vertical-align: top;\n",
       "    }\n",
       "\n",
       "    .dataframe thead th {\n",
       "        text-align: right;\n",
       "    }\n",
       "</style>\n",
       "<table border=\"1\" class=\"dataframe\">\n",
       "  <thead>\n",
       "    <tr style=\"text-align: right;\">\n",
       "      <th></th>\n",
       "      <th>zinc_id</th>\n",
       "      <th>smiles</th>\n",
       "      <th>mwt</th>\n",
       "      <th>logp</th>\n",
       "      <th>heavy_atoms</th>\n",
       "      <th>n_rings</th>\n",
       "      <th>heteroatoms</th>\n",
       "      <th>tpsa</th>\n",
       "      <th>hacceptors</th>\n",
       "      <th>hdonors</th>\n",
       "      <th>rotatable_bonds</th>\n",
       "    </tr>\n",
       "  </thead>\n",
       "  <tbody>\n",
       "    <tr>\n",
       "      <th>0</th>\n",
       "      <td>ZINC000000000007</td>\n",
       "      <td>C=CCc1ccc(OCC(=O)N(CC)CC)c(OC)c1</td>\n",
       "      <td>277.364</td>\n",
       "      <td>2.6709</td>\n",
       "      <td>20</td>\n",
       "      <td>1</td>\n",
       "      <td>4</td>\n",
       "      <td>38.77</td>\n",
       "      <td>3</td>\n",
       "      <td>0</td>\n",
       "      <td>8</td>\n",
       "    </tr>\n",
       "    <tr>\n",
       "      <th>1</th>\n",
       "      <td>ZINC000000000010</td>\n",
       "      <td>C[C@@]1(c2ccccc2)OC(C(=O)O)=CC1=O</td>\n",
       "      <td>218.208</td>\n",
       "      <td>1.4696</td>\n",
       "      <td>16</td>\n",
       "      <td>2</td>\n",
       "      <td>4</td>\n",
       "      <td>63.60</td>\n",
       "      <td>3</td>\n",
       "      <td>1</td>\n",
       "      <td>2</td>\n",
       "    </tr>\n",
       "    <tr>\n",
       "      <th>2</th>\n",
       "      <td>ZINC000000000011</td>\n",
       "      <td>COc1cc(Cc2cnc(N)nc2N)cc(OC)c1N(C)C</td>\n",
       "      <td>303.366</td>\n",
       "      <td>1.3150</td>\n",
       "      <td>22</td>\n",
       "      <td>2</td>\n",
       "      <td>7</td>\n",
       "      <td>99.52</td>\n",
       "      <td>7</td>\n",
       "      <td>2</td>\n",
       "      <td>5</td>\n",
       "    </tr>\n",
       "    <tr>\n",
       "      <th>3</th>\n",
       "      <td>ZINC000000000012</td>\n",
       "      <td>O=C(C[S@@](=O)C(c1ccccc1)c1ccccc1)NO</td>\n",
       "      <td>289.356</td>\n",
       "      <td>2.0301</td>\n",
       "      <td>20</td>\n",
       "      <td>2</td>\n",
       "      <td>5</td>\n",
       "      <td>66.40</td>\n",
       "      <td>3</td>\n",
       "      <td>2</td>\n",
       "      <td>5</td>\n",
       "    </tr>\n",
       "    <tr>\n",
       "      <th>4</th>\n",
       "      <td>ZINC000000000014</td>\n",
       "      <td>CC[C@H]1[C@H](O)N2[C@H]3C[C@@]45c6ccccc6N(C)[C...</td>\n",
       "      <td>326.440</td>\n",
       "      <td>1.5545</td>\n",
       "      <td>24</td>\n",
       "      <td>12</td>\n",
       "      <td>4</td>\n",
       "      <td>46.94</td>\n",
       "      <td>4</td>\n",
       "      <td>2</td>\n",
       "      <td>1</td>\n",
       "    </tr>\n",
       "  </tbody>\n",
       "</table>\n",
       "</div>"
      ],
      "text/plain": [
       "            zinc_id                                             smiles  \\\n",
       "0  ZINC000000000007                   C=CCc1ccc(OCC(=O)N(CC)CC)c(OC)c1   \n",
       "1  ZINC000000000010                  C[C@@]1(c2ccccc2)OC(C(=O)O)=CC1=O   \n",
       "2  ZINC000000000011                 COc1cc(Cc2cnc(N)nc2N)cc(OC)c1N(C)C   \n",
       "3  ZINC000000000012               O=C(C[S@@](=O)C(c1ccccc1)c1ccccc1)NO   \n",
       "4  ZINC000000000014  CC[C@H]1[C@H](O)N2[C@H]3C[C@@]45c6ccccc6N(C)[C...   \n",
       "\n",
       "       mwt    logp  heavy_atoms  n_rings  heteroatoms   tpsa  hacceptors  \\\n",
       "0  277.364  2.6709           20        1            4  38.77           3   \n",
       "1  218.208  1.4696           16        2            4  63.60           3   \n",
       "2  303.366  1.3150           22        2            7  99.52           7   \n",
       "3  289.356  2.0301           20        2            5  66.40           3   \n",
       "4  326.440  1.5545           24       12            4  46.94           4   \n",
       "\n",
       "   hdonors  rotatable_bonds  \n",
       "0        0                8  \n",
       "1        1                2  \n",
       "2        2                5  \n",
       "3        2                5  \n",
       "4        2                1  "
      ]
     },
     "execution_count": 2,
     "metadata": {},
     "output_type": "execute_result"
    }
   ],
   "source": [
    "# First we import our dataset with pandas\n",
    "dataset = pd.read_csv('./zinc_subset.csv')\n",
    "dataset.head()"
   ]
  },
  {
   "cell_type": "code",
   "execution_count": 3,
   "id": "a2dc2e09-9b63-4366-9032-5c34c2da7ec4",
   "metadata": {},
   "outputs": [
    {
     "data": {
      "application/vnd.jupyter.widget-view+json": {
       "model_id": "b288c3ad9fec407aac24e6825d82afa2",
       "version_major": 2,
       "version_minor": 0
      },
      "text/plain": [
       "Histogram(data={'points': [{'smiles': 'C=CCc1ccc(OCC(=O)N(CC)CC)c(OC)c1', 'x': 277.3639999999999, 'index': 0},…"
      ]
     },
     "metadata": {},
     "output_type": "display_data"
    }
   ],
   "source": [
    "# Now we can use the histogram using the mwt as x axis\n",
    "histogram = tcw.Histogram(data=dataset, smiles='smiles', x='mwt', x_label='Molecular Weight')\n",
    "histogram"
   ]
  }
 ],
 "metadata": {
  "kernelspec": {
   "display_name": "Python 3 (ipykernel)",
   "language": "python",
   "name": "python3"
  },
  "language_info": {
   "codemirror_mode": {
    "name": "ipython",
    "version": 3
   },
   "file_extension": ".py",
   "mimetype": "text/x-python",
   "name": "python",
   "nbconvert_exporter": "python",
   "pygments_lexer": "ipython3",
   "version": "3.8.12"
  }
 },
 "nbformat": 4,
 "nbformat_minor": 5
}
