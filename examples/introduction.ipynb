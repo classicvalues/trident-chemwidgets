{
 "cells": [
  {
   "cell_type": "markdown",
   "metadata": {},
   "source": [
    "# Introduction"
   ]
  },
  {
   "cell_type": "markdown",
   "metadata": {},
   "source": [
    "The React Jupyter Widget keeps your JavaScript and Python state in sync."
   ]
  },
  {
   "cell_type": "code",
   "execution_count": 1,
   "metadata": {},
   "outputs": [],
   "source": [
    "import trident_chemwidgets"
   ]
  },
  {
   "cell_type": "code",
   "execution_count": 2,
   "metadata": {},
   "outputs": [
    {
     "data": {
      "text/plain": [
       "[{'Formal Charge': 0, 'Hybridization': 'SP3', 'Implicit Valence': 3},\n",
       " {'Formal Charge': 0, 'Hybridization': 'SP3', 'Implicit Valence': 2},\n",
       " {'Formal Charge': 0, 'Hybridization': 'SP3', 'Implicit Valence': 2},\n",
       " {'Formal Charge': 0, 'Hybridization': 'SP3', 'Implicit Valence': 2},\n",
       " {'Formal Charge': 0, 'Hybridization': 'SP3', 'Implicit Valence': 3}]"
      ]
     },
     "execution_count": 2,
     "metadata": {},
     "output_type": "execute_result"
    }
   ],
   "source": [
    "atoms_data = [\n",
    "    {'Formal Charge': 0, 'Hybridization': 'SP3', 'Implicit Valence': 3},\n",
    "    {'Formal Charge': 0, 'Hybridization': 'SP3', 'Implicit Valence': 2},\n",
    "    {'Formal Charge': 0, 'Hybridization': 'SP3', 'Implicit Valence': 2},\n",
    "    {'Formal Charge': 0, 'Hybridization': 'SP3', 'Implicit Valence': 2},\n",
    "    {'Formal Charge': 0, 'Hybridization': 'SP3', 'Implicit Valence': 3}\n",
    "]\n",
    "atoms_data"
   ]
  },
  {
   "cell_type": "code",
   "execution_count": 3,
   "metadata": {},
   "outputs": [
    {
     "data": {
      "application/vnd.jupyter.widget-view+json": {
       "model_id": "b603830c031942efb82a8bf8043cb92a",
       "version_major": 2,
       "version_minor": 0
      },
      "text/plain": [
       "InteractiveMolecule(atoms_data=[{'Formal Charge': 0, 'Hybridization': 'SP3', 'Implicit Valence': 3}, {'Formal …"
      ]
     },
     "metadata": {},
     "output_type": "display_data"
    }
   ],
   "source": [
    "w = trident_chemwidgets.InteractiveMolecule('CCCCC', atoms_data=atoms_data)\n",
    "w"
   ]
  },
  {
   "cell_type": "markdown",
   "metadata": {},
   "source": [
    "The value of the widget will match what you typed into the input."
   ]
  },
  {
   "cell_type": "code",
   "execution_count": 5,
   "metadata": {},
   "outputs": [
    {
     "data": {
      "text/plain": [
       "'CCCCC'"
      ]
     },
     "execution_count": 5,
     "metadata": {},
     "output_type": "execute_result"
    }
   ],
   "source": [
    "w.smiles"
   ]
  },
  {
   "cell_type": "code",
   "execution_count": 4,
   "metadata": {},
   "outputs": [
    {
     "data": {
      "application/vnd.jupyter.widget-view+json": {
       "model_id": "808473179a614c8a9d8faa9e0eeaa6ac",
       "version_major": 2,
       "version_minor": 0
      },
      "text/plain": [
       "InteractiveMolecule(smiles='CCCCCC=C')"
      ]
     },
     "metadata": {},
     "output_type": "display_data"
    }
   ],
   "source": [
    "interactive_molecule = trident_chemwidgets.InteractiveMolecule('CCCCCC=C')\n",
    "interactive_molecule"
   ]
  }
 ],
 "metadata": {
  "kernelspec": {
   "display_name": "Python 3 (ipykernel)",
   "language": "python",
   "name": "python3"
  },
  "language_info": {
   "codemirror_mode": {
    "name": "ipython",
    "version": 3
   },
   "file_extension": ".py",
   "mimetype": "text/x-python",
   "name": "python",
   "nbconvert_exporter": "python",
   "pygments_lexer": "ipython3",
   "version": "3.8.12"
  }
 },
 "nbformat": 4,
 "nbformat_minor": 4
}
